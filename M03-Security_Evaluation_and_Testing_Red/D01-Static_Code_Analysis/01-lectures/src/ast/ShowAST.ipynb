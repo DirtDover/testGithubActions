{
  "nbformat": 4,
  "nbformat_minor": 0,
  "metadata": {
    "colab": {
      "provenance": []
    },
    "kernelspec": {
      "name": "python3",
      "display_name": "Python 3"
    },
    "language_info": {
      "name": "python"
    }
  },
  "cells": [
    {
      "cell_type": "code",
      "source": [
        "!pip install showast"
      ],
      "metadata": {
        "id": "96PxCsKRfE62"
      },
      "execution_count": null,
      "outputs": []
    },
    {
      "cell_type": "code",
      "source": [
        "import showast"
      ],
      "metadata": {
        "id": "fEaRKP2RfLUc"
      },
      "execution_count": null,
      "outputs": []
    },
    {
      "cell_type": "code",
      "source": [
        "%%showast\n",
        "print(1 + 2)"
      ],
      "metadata": {
        "colab": {
          "base_uri": "https://localhost:8080/",
          "height": 485
        },
        "id": "sNX9VImRfNmF",
        "outputId": "c824b8ec-1e34-4303-eeab-70689618e8a5"
      },
      "execution_count": null,
      "outputs": [
        {
          "output_type": "display_data",
          "data": {
            "text/plain": [
              "<IPython.core.display.SVG object>"
            ],
            "image/svg+xml": "<svg xmlns=\"http://www.w3.org/2000/svg\" xmlns:xlink=\"http://www.w3.org/1999/xlink\" width=\"430pt\" height=\"332pt\" viewBox=\"0.00 0.00 429.50 332.00\">\n<g id=\"graph0\" class=\"graph\" transform=\"scale(1 1) rotate(0) translate(4 328)\">\n<title>%3</title>\n<polygon fill=\"white\" stroke=\"transparent\" points=\"-4,4 -4,-328 425.5,-328 425.5,4 -4,4\"/>\n<!-- 0 -->\n<g id=\"node1\" class=\"node\">\n<title>0</title>\n<text text-anchor=\"start\" x=\"145\" y=\"-303.3\" font-family=\"Courier,monospace\" font-weight=\"bold\" font-size=\"14.00\" fill=\"#004080\">Expr</text>\n</g>\n<!-- 1 -->\n<g id=\"node2\" class=\"node\">\n<title>1</title>\n<text text-anchor=\"start\" x=\"145\" y=\"-231.3\" font-family=\"Courier,monospace\" font-weight=\"bold\" font-size=\"14.00\" fill=\"#004080\">Call</text>\n</g>\n<!-- 0&#45;&#45;1 -->\n<g id=\"edge1\" class=\"edge\">\n<title>0--1</title>\n<path fill=\"none\" stroke=\"black\" d=\"M162,-287.7C162,-276.85 162,-262.92 162,-252.1\"/>\n</g>\n<!-- 2 -->\n<g id=\"node3\" class=\"node\">\n<title>2</title>\n<text text-anchor=\"start\" x=\"102\" y=\"-159.3\" font-family=\"Courier,monospace\" font-weight=\"bold\" font-size=\"14.00\" fill=\"#004080\">Name</text>\n</g>\n<!-- 1&#45;&#45;2 -->\n<g id=\"edge2\" class=\"edge\">\n<title>1--2</title>\n<path fill=\"none\" stroke=\"black\" d=\"M165,-215C165,-215 147.48,-195.19 134.06,-180.03\"/>\n</g>\n<!-- 5 -->\n<g id=\"node6\" class=\"node\">\n<title>5</title>\n<text text-anchor=\"start\" x=\"228\" y=\"-159.3\" font-family=\"Courier,monospace\" font-weight=\"bold\" font-size=\"14.00\" fill=\"#004080\">BinOp</text>\n</g>\n<!-- 1&#45;&#45;5 -->\n<g id=\"edge5\" class=\"edge\">\n<title>1--5</title>\n<path fill=\"none\" stroke=\"black\" d=\"M165,-215C165,-215 197,-195.19 221.5,-180.03\"/>\n</g>\n<!-- 3 -->\n<g id=\"node4\" class=\"node\">\n<title>3</title>\n<text text-anchor=\"middle\" x=\"37\" y=\"-86.3\" font-family=\"Courier,monospace\" font-size=\"14.00\" fill=\"#008040\">&quot;print&quot;</text>\n</g>\n<!-- 2&#45;&#45;3 -->\n<g id=\"edge3\" class=\"edge\">\n<title>2--3</title>\n<path fill=\"none\" stroke=\"black\" d=\"M111,-143C111,-143 82.81,-123.19 61.23,-108.03\"/>\n</g>\n<!-- 4 -->\n<g id=\"node5\" class=\"node\">\n<title>4</title>\n<text text-anchor=\"middle\" x=\"119\" y=\"-86.3\" font-family=\"Courier,monospace\" font-size=\"14.00\" fill=\"#008040\">Load</text>\n</g>\n<!-- 2&#45;&#45;4 -->\n<g id=\"edge4\" class=\"edge\">\n<title>2--4</title>\n<path fill=\"none\" stroke=\"black\" d=\"M111,-143C111,-143 114.05,-123.19 116.38,-108.03\"/>\n</g>\n<!-- 6 -->\n<g id=\"node7\" class=\"node\">\n<title>6</title>\n<text text-anchor=\"start\" x=\"172.5\" y=\"-87.3\" font-family=\"Courier,monospace\" font-weight=\"bold\" font-size=\"14.00\" fill=\"#004080\">Constant</text>\n</g>\n<!-- 5&#45;&#45;6 -->\n<g id=\"edge6\" class=\"edge\">\n<title>5--6</title>\n<path fill=\"none\" stroke=\"black\" d=\"M256,-143C256,-143 236.95,-123.19 222.37,-108.03\"/>\n</g>\n<!-- 8 -->\n<g id=\"node9\" class=\"node\">\n<title>8</title>\n<text text-anchor=\"middle\" x=\"293\" y=\"-86.3\" font-family=\"Courier,monospace\" font-size=\"14.00\" fill=\"#008040\">Add</text>\n</g>\n<!-- 5&#45;&#45;8 -->\n<g id=\"edge8\" class=\"edge\">\n<title>5--8</title>\n<path fill=\"none\" stroke=\"black\" d=\"M256,-143C256,-143 270.09,-123.19 280.88,-108.03\"/>\n</g>\n<!-- 9 -->\n<g id=\"node10\" class=\"node\">\n<title>9</title>\n<text text-anchor=\"start\" x=\"346.5\" y=\"-87.3\" font-family=\"Courier,monospace\" font-weight=\"bold\" font-size=\"14.00\" fill=\"#004080\">Constant</text>\n</g>\n<!-- 5&#45;&#45;9 -->\n<g id=\"edge9\" class=\"edge\">\n<title>5--9</title>\n<path fill=\"none\" stroke=\"black\" d=\"M256,-143C256,-143 303.23,-123.19 339.4,-108.03\"/>\n</g>\n<!-- 7 -->\n<g id=\"node8\" class=\"node\">\n<title>7</title>\n<text text-anchor=\"middle\" x=\"206\" y=\"-14.3\" font-family=\"Courier,monospace\" font-size=\"14.00\" fill=\"#008040\">1</text>\n</g>\n<!-- 6&#45;&#45;7 -->\n<g id=\"edge7\" class=\"edge\">\n<title>6--7</title>\n<path fill=\"none\" stroke=\"black\" d=\"M206,-71.7C206,-60.85 206,-46.92 206,-36.1\"/>\n</g>\n<!-- 10 -->\n<g id=\"node11\" class=\"node\">\n<title>10</title>\n<text text-anchor=\"middle\" x=\"380\" y=\"-14.3\" font-family=\"Courier,monospace\" font-size=\"14.00\" fill=\"#008040\">2</text>\n</g>\n<!-- 9&#45;&#45;10 -->\n<g id=\"edge10\" class=\"edge\">\n<title>9--10</title>\n<path fill=\"none\" stroke=\"black\" d=\"M380,-71.7C380,-60.85 380,-46.92 380,-36.1\"/>\n</g>\n</g>\n</svg>"
          },
          "metadata": {}
        }
      ]
    },
    {
      "cell_type": "code",
      "source": [
        "%%showast\n",
        "def add(x, y):\n",
        "    return x + y"
      ],
      "metadata": {
        "colab": {
          "base_uri": "https://localhost:8080/",
          "height": 485
        },
        "id": "5IH7VxoNfVVK",
        "outputId": "df06b53d-0913-4a9c-ba40-02afb8074848"
      },
      "execution_count": null,
      "outputs": [
        {
          "output_type": "display_data",
          "data": {
            "text/plain": [
              "<IPython.core.display.SVG object>"
            ],
            "image/svg+xml": "<svg xmlns=\"http://www.w3.org/2000/svg\" xmlns:xlink=\"http://www.w3.org/1999/xlink\" width=\"409pt\" height=\"332pt\" viewBox=\"0.00 0.00 409.00 332.00\">\n<g id=\"graph0\" class=\"graph\" transform=\"scale(1 1) rotate(0) translate(4 328)\">\n<title>%3</title>\n<polygon fill=\"white\" stroke=\"transparent\" points=\"-4,4 -4,-328 405,-328 405,4 -4,4\"/>\n<!-- 0 -->\n<g id=\"node1\" class=\"node\">\n<title>0</title>\n<text text-anchor=\"start\" x=\"76.5\" y=\"-303.3\" font-family=\"Courier,monospace\" font-weight=\"bold\" font-size=\"14.00\" fill=\"#004080\">FunctionDef</text>\n</g>\n<!-- 1 -->\n<g id=\"node2\" class=\"node\">\n<title>1</title>\n<text text-anchor=\"middle\" x=\"29\" y=\"-230.3\" font-family=\"Courier,monospace\" font-size=\"14.00\" fill=\"#008040\">&quot;add&quot;</text>\n</g>\n<!-- 0&#45;&#45;1 -->\n<g id=\"edge1\" class=\"edge\">\n<title>0--1</title>\n<path fill=\"none\" stroke=\"black\" d=\"M123,-287C123,-287 85.82,-266.43 58.23,-251.17\"/>\n</g>\n<!-- 2 -->\n<g id=\"node3\" class=\"node\">\n<title>2</title>\n<text text-anchor=\"start\" x=\"84.5\" y=\"-231.3\" font-family=\"Courier,monospace\" font-weight=\"bold\" font-size=\"14.00\" fill=\"#004080\">arguments</text>\n</g>\n<!-- 0&#45;&#45;2 -->\n<g id=\"edge2\" class=\"edge\">\n<title>0--2</title>\n<path fill=\"none\" stroke=\"black\" d=\"M123,-287C123,-287 122.62,-267.19 122.33,-252.03\"/>\n</g>\n<!-- 7 -->\n<g id=\"node8\" class=\"node\">\n<title>7</title>\n<text text-anchor=\"start\" x=\"217\" y=\"-231.3\" font-family=\"Courier,monospace\" font-weight=\"bold\" font-size=\"14.00\" fill=\"#004080\">Return</text>\n</g>\n<!-- 0&#45;&#45;7 -->\n<g id=\"edge7\" class=\"edge\">\n<title>0--7</title>\n<path fill=\"none\" stroke=\"black\" d=\"M123,-287C123,-287 173.64,-264.87 208.85,-249.48\"/>\n</g>\n<!-- 3 -->\n<g id=\"node4\" class=\"node\">\n<title>3</title>\n<text text-anchor=\"start\" x=\"37.5\" y=\"-159.3\" font-family=\"Courier,monospace\" font-weight=\"bold\" font-size=\"14.00\" fill=\"#004080\">arg</text>\n</g>\n<!-- 2&#45;&#45;3 -->\n<g id=\"edge3\" class=\"edge\">\n<title>2--3</title>\n<path fill=\"none\" stroke=\"black\" d=\"M115,-215C115,-215 90.24,-195.19 71.28,-180.03\"/>\n</g>\n<!-- 5 -->\n<g id=\"node6\" class=\"node\">\n<title>5</title>\n<text text-anchor=\"start\" x=\"109.5\" y=\"-159.3\" font-family=\"Courier,monospace\" font-weight=\"bold\" font-size=\"14.00\" fill=\"#004080\">arg</text>\n</g>\n<!-- 2&#45;&#45;5 -->\n<g id=\"edge5\" class=\"edge\">\n<title>2--5</title>\n<path fill=\"none\" stroke=\"black\" d=\"M115,-215C115,-215 117.67,-195.19 119.71,-180.03\"/>\n</g>\n<!-- 4 -->\n<g id=\"node5\" class=\"node\">\n<title>4</title>\n<text text-anchor=\"middle\" x=\"50\" y=\"-86.3\" font-family=\"Courier,monospace\" font-size=\"14.00\" fill=\"#008040\">&quot;x&quot;</text>\n</g>\n<!-- 3&#45;&#45;4 -->\n<g id=\"edge4\" class=\"edge\">\n<title>3--4</title>\n<path fill=\"none\" stroke=\"black\" d=\"M50,-143.7C50,-132.85 50,-118.92 50,-108.1\"/>\n</g>\n<!-- 6 -->\n<g id=\"node7\" class=\"node\">\n<title>6</title>\n<text text-anchor=\"middle\" x=\"122\" y=\"-86.3\" font-family=\"Courier,monospace\" font-size=\"14.00\" fill=\"#008040\">&quot;y&quot;</text>\n</g>\n<!-- 5&#45;&#45;6 -->\n<g id=\"edge6\" class=\"edge\">\n<title>5--6</title>\n<path fill=\"none\" stroke=\"black\" d=\"M122,-143.7C122,-132.85 122,-118.92 122,-108.1\"/>\n</g>\n<!-- 8 -->\n<g id=\"node9\" class=\"node\">\n<title>8</title>\n<text text-anchor=\"start\" x=\"233\" y=\"-159.3\" font-family=\"Courier,monospace\" font-weight=\"bold\" font-size=\"14.00\" fill=\"#004080\">BinOp</text>\n</g>\n<!-- 7&#45;&#45;8 -->\n<g id=\"edge8\" class=\"edge\">\n<title>7--8</title>\n<path fill=\"none\" stroke=\"black\" d=\"M244.97,-215.7C246.83,-204.85 249.21,-190.92 251.07,-180.1\"/>\n</g>\n<!-- 9 -->\n<g id=\"node10\" class=\"node\">\n<title>9</title>\n<text text-anchor=\"start\" x=\"177\" y=\"-87.3\" font-family=\"Courier,monospace\" font-weight=\"bold\" font-size=\"14.00\" fill=\"#004080\">Name</text>\n</g>\n<!-- 8&#45;&#45;9 -->\n<g id=\"edge9\" class=\"edge\">\n<title>8--9</title>\n<path fill=\"none\" stroke=\"black\" d=\"M256,-143C256,-143 232.38,-123.19 214.3,-108.03\"/>\n</g>\n<!-- 12 -->\n<g id=\"node13\" class=\"node\">\n<title>12</title>\n<text text-anchor=\"middle\" x=\"266\" y=\"-86.3\" font-family=\"Courier,monospace\" font-size=\"14.00\" fill=\"#008040\">Add</text>\n</g>\n<!-- 8&#45;&#45;12 -->\n<g id=\"edge12\" class=\"edge\">\n<title>8--12</title>\n<path fill=\"none\" stroke=\"black\" d=\"M256,-143C256,-143 259.81,-123.19 262.73,-108.03\"/>\n</g>\n<!-- 13 -->\n<g id=\"node14\" class=\"node\">\n<title>13</title>\n<text text-anchor=\"start\" x=\"321\" y=\"-87.3\" font-family=\"Courier,monospace\" font-weight=\"bold\" font-size=\"14.00\" fill=\"#004080\">Name</text>\n</g>\n<!-- 8&#45;&#45;13 -->\n<g id=\"edge13\" class=\"edge\">\n<title>8--13</title>\n<path fill=\"none\" stroke=\"black\" d=\"M256,-143C256,-143 287.24,-123.19 311.15,-108.03\"/>\n</g>\n<!-- 10 -->\n<g id=\"node11\" class=\"node\">\n<title>10</title>\n<text text-anchor=\"middle\" x=\"158\" y=\"-14.3\" font-family=\"Courier,monospace\" font-size=\"14.00\" fill=\"#008040\">&quot;x&quot;</text>\n</g>\n<!-- 9&#45;&#45;10 -->\n<g id=\"edge10\" class=\"edge\">\n<title>9--10</title>\n<path fill=\"none\" stroke=\"black\" d=\"M194,-71C194,-71 180.29,-51.19 169.79,-36.03\"/>\n</g>\n<!-- 11 -->\n<g id=\"node12\" class=\"node\">\n<title>11</title>\n<text text-anchor=\"middle\" x=\"230\" y=\"-14.3\" font-family=\"Courier,monospace\" font-size=\"14.00\" fill=\"#008040\">Load</text>\n</g>\n<!-- 9&#45;&#45;11 -->\n<g id=\"edge11\" class=\"edge\">\n<title>9--11</title>\n<path fill=\"none\" stroke=\"black\" d=\"M194,-71C194,-71 207.71,-51.19 218.21,-36.03\"/>\n</g>\n<!-- 14 -->\n<g id=\"node15\" class=\"node\">\n<title>14</title>\n<text text-anchor=\"middle\" x=\"302\" y=\"-14.3\" font-family=\"Courier,monospace\" font-size=\"14.00\" fill=\"#008040\">&quot;y&quot;</text>\n</g>\n<!-- 13&#45;&#45;14 -->\n<g id=\"edge14\" class=\"edge\">\n<title>13--14</title>\n<path fill=\"none\" stroke=\"black\" d=\"M338,-71C338,-71 324.29,-51.19 313.79,-36.03\"/>\n</g>\n<!-- 15 -->\n<g id=\"node16\" class=\"node\">\n<title>15</title>\n<text text-anchor=\"middle\" x=\"374\" y=\"-14.3\" font-family=\"Courier,monospace\" font-size=\"14.00\" fill=\"#008040\">Load</text>\n</g>\n<!-- 13&#45;&#45;15 -->\n<g id=\"edge15\" class=\"edge\">\n<title>13--15</title>\n<path fill=\"none\" stroke=\"black\" d=\"M338,-71C338,-71 351.71,-51.19 362.21,-36.03\"/>\n</g>\n</g>\n</svg>"
          },
          "metadata": {}
        }
      ]
    }
  ]
}